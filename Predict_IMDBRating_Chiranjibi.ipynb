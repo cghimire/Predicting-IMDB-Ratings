{
 "cells": [
  {
   "cell_type": "code",
   "execution_count": 3,
   "metadata": {},
   "outputs": [],
   "source": [
    "#Import required packages\n",
    "import pandas as pd\n",
    "import numpy as np"
   ]
  },
  {
   "cell_type": "code",
   "execution_count": 4,
   "metadata": {
    "scrolled": true
   },
   "outputs": [
    {
     "name": "stdout",
     "output_type": "stream",
     "text": [
      "['color' 'director_name' 'num_critic_for_reviews' 'duration'\n",
      " 'director_facebook_likes' 'actor_3_facebook_likes' 'actor_2_name'\n",
      " 'actor_1_facebook_likes' 'gross' 'genres' 'actor_1_name' 'movie_title'\n",
      " 'num_voted_users' 'cast_total_facebook_likes' 'actor_3_name'\n",
      " 'facenumber_in_poster' 'plot_keywords' 'movie_imdb_link'\n",
      " 'num_user_for_reviews' 'language' 'country' 'content_rating' 'budget'\n",
      " 'title_year' 'actor_2_facebook_likes' 'imdb_score' 'aspect_ratio'\n",
      " 'movie_facebook_likes']\n",
      "(5043, 28)\n"
     ]
    }
   ],
   "source": [
    "movie=pd.read_csv(\"/Users/chiranjibighimire/Desktop/movie_metadata.csv\")\n",
    "print(movie.columns.values)\n",
    "print(movie.shape)\n"
   ]
  },
  {
   "cell_type": "markdown",
   "metadata": {},
   "source": [
    "#### The data set has  5043 rows and 28 columns\n"
   ]
  },
  {
   "cell_type": "code",
   "execution_count": 5,
   "metadata": {
    "scrolled": false
   },
   "outputs": [
    {
     "name": "stdout",
     "output_type": "stream",
     "text": [
      "(5043, 26)\n"
     ]
    }
   ],
   "source": [
    "# Remove columns which are not related to the rating of movie\n",
    "movie.drop([\"aspect_ratio\", \"movie_imdb_link\"], inplace=True, axis=1)\n",
    "print(movie.shape)"
   ]
  },
  {
   "cell_type": "markdown",
   "metadata": {},
   "source": [
    "#### I removed two columns which are not related to predicting IMDB rating"
   ]
  },
  {
   "cell_type": "code",
   "execution_count": 6,
   "metadata": {
    "scrolled": true
   },
   "outputs": [
    {
     "name": "stdout",
     "output_type": "stream",
     "text": [
      "numeric features are: ['num_critic_for_reviews', 'duration', 'director_facebook_likes', 'actor_3_facebook_likes', 'actor_1_facebook_likes', 'gross', 'num_voted_users', 'cast_total_facebook_likes', 'facenumber_in_poster', 'num_user_for_reviews', 'budget', 'title_year', 'actor_2_facebook_likes', 'imdb_score', 'movie_facebook_likes']\n",
      "text features are: ['color', 'director_name', 'actor_2_name', 'genres', 'actor_1_name', 'movie_title', 'actor_3_name', 'plot_keywords', 'language', 'country', 'content_rating']\n",
      "string features are: ['movie_title', 'plot_keywords']\n",
      "categorical features are: ['color', 'director_name', 'actor_2_name', 'genres', 'actor_1_name', 'actor_3_name', 'language', 'country', 'content_rating']\n"
     ]
    }
   ],
   "source": [
    "# Distinguish numeric, non-numeric, and string features from data set\n",
    "\n",
    "numeric_features=movie._get_numeric_data().columns.values.tolist()\n",
    "print(\"numeric features are:\", numeric_features)\n",
    "\n",
    "\n",
    "text_features=movie.columns.values.tolist()\n",
    "text_features=[i for i in text_features if i not in numeric_features]\n",
    "\n",
    "print(\"text features are:\", text_features)\n",
    "\n",
    "\n",
    "string_features=[\"movie_title\", \"plot_keywords\"]\n",
    "\n",
    "print(\"string features are:\", string_features)\n",
    "\n",
    "categorical_features=[i for i in text_features if i not in string_features]\n",
    "\n",
    "print(\"categorical features are:\", categorical_features)\n",
    "\n",
    "numeric_features.remove(\"title_year\") \n",
    "categorical_features.append(\"title_year\")\n"
   ]
  },
  {
   "cell_type": "markdown",
   "metadata": {},
   "source": [
    "## Data Exploration"
   ]
  },
  {
   "cell_type": "code",
   "execution_count": 7,
   "metadata": {
    "scrolled": true
   },
   "outputs": [
    {
     "data": {
      "text/plain": [
       "color                         19\n",
       "director_name                104\n",
       "num_critic_for_reviews        50\n",
       "duration                      15\n",
       "director_facebook_likes      104\n",
       "actor_3_facebook_likes        23\n",
       "actor_2_name                  13\n",
       "actor_1_facebook_likes         7\n",
       "gross                        884\n",
       "genres                         0\n",
       "actor_1_name                   7\n",
       "movie_title                    0\n",
       "num_voted_users                0\n",
       "cast_total_facebook_likes      0\n",
       "actor_3_name                  23\n",
       "facenumber_in_poster          13\n",
       "plot_keywords                153\n",
       "num_user_for_reviews          21\n",
       "language                      12\n",
       "country                        5\n",
       "content_rating               303\n",
       "budget                       492\n",
       "title_year                   108\n",
       "actor_2_facebook_likes        13\n",
       "imdb_score                     0\n",
       "movie_facebook_likes           0\n",
       "dtype: int64"
      ]
     },
     "execution_count": 7,
     "metadata": {},
     "output_type": "execute_result"
    }
   ],
   "source": [
    "#find columns that have missing values\n",
    "movie.isnull().sum()"
   ]
  },
  {
   "cell_type": "markdown",
   "metadata": {},
   "source": [
    "#### This data set has lot of missing values. We need to handle with missing values to get more accurate prediction.\n"
   ]
  },
  {
   "cell_type": "markdown",
   "metadata": {},
   "source": [
    "#### There are few methods to handle the missing values. 1) remove rows with missing values 2) Replace missing values (Imputer method). I am using 1st method. "
   ]
  },
  {
   "cell_type": "code",
   "execution_count": 8,
   "metadata": {
    "scrolled": false
   },
   "outputs": [
    {
     "data": {
      "text/html": [
       "<div>\n",
       "<style scoped>\n",
       "    .dataframe tbody tr th:only-of-type {\n",
       "        vertical-align: middle;\n",
       "    }\n",
       "\n",
       "    .dataframe tbody tr th {\n",
       "        vertical-align: top;\n",
       "    }\n",
       "\n",
       "    .dataframe thead th {\n",
       "        text-align: right;\n",
       "    }\n",
       "</style>\n",
       "<table border=\"1\" class=\"dataframe\">\n",
       "  <thead>\n",
       "    <tr style=\"text-align: right;\">\n",
       "      <th></th>\n",
       "      <th>color</th>\n",
       "      <th>director_name</th>\n",
       "      <th>num_critic_for_reviews</th>\n",
       "      <th>duration</th>\n",
       "      <th>director_facebook_likes</th>\n",
       "      <th>actor_3_facebook_likes</th>\n",
       "      <th>actor_2_name</th>\n",
       "      <th>actor_1_facebook_likes</th>\n",
       "      <th>gross</th>\n",
       "      <th>genres</th>\n",
       "      <th>...</th>\n",
       "      <th>plot_keywords</th>\n",
       "      <th>num_user_for_reviews</th>\n",
       "      <th>language</th>\n",
       "      <th>country</th>\n",
       "      <th>content_rating</th>\n",
       "      <th>budget</th>\n",
       "      <th>title_year</th>\n",
       "      <th>actor_2_facebook_likes</th>\n",
       "      <th>imdb_score</th>\n",
       "      <th>movie_facebook_likes</th>\n",
       "    </tr>\n",
       "  </thead>\n",
       "  <tbody>\n",
       "    <tr>\n",
       "      <th>4</th>\n",
       "      <td>NaN</td>\n",
       "      <td>Doug Walker</td>\n",
       "      <td>NaN</td>\n",
       "      <td>NaN</td>\n",
       "      <td>131.0</td>\n",
       "      <td>NaN</td>\n",
       "      <td>Rob Walker</td>\n",
       "      <td>131.0</td>\n",
       "      <td>NaN</td>\n",
       "      <td>Documentary</td>\n",
       "      <td>...</td>\n",
       "      <td>NaN</td>\n",
       "      <td>NaN</td>\n",
       "      <td>NaN</td>\n",
       "      <td>NaN</td>\n",
       "      <td>NaN</td>\n",
       "      <td>NaN</td>\n",
       "      <td>NaN</td>\n",
       "      <td>12.0</td>\n",
       "      <td>7.1</td>\n",
       "      <td>0</td>\n",
       "    </tr>\n",
       "    <tr>\n",
       "      <th>279</th>\n",
       "      <td>NaN</td>\n",
       "      <td>Christopher Barnard</td>\n",
       "      <td>NaN</td>\n",
       "      <td>22.0</td>\n",
       "      <td>0.0</td>\n",
       "      <td>NaN</td>\n",
       "      <td>NaN</td>\n",
       "      <td>5.0</td>\n",
       "      <td>NaN</td>\n",
       "      <td>Comedy</td>\n",
       "      <td>...</td>\n",
       "      <td>NaN</td>\n",
       "      <td>NaN</td>\n",
       "      <td>NaN</td>\n",
       "      <td>NaN</td>\n",
       "      <td>NaN</td>\n",
       "      <td>NaN</td>\n",
       "      <td>NaN</td>\n",
       "      <td>NaN</td>\n",
       "      <td>7.2</td>\n",
       "      <td>0</td>\n",
       "    </tr>\n",
       "    <tr>\n",
       "      <th>459</th>\n",
       "      <td>NaN</td>\n",
       "      <td>NaN</td>\n",
       "      <td>95.0</td>\n",
       "      <td>54.0</td>\n",
       "      <td>NaN</td>\n",
       "      <td>0.0</td>\n",
       "      <td>Royce Johnson</td>\n",
       "      <td>577.0</td>\n",
       "      <td>NaN</td>\n",
       "      <td>Action|Adventure|Crime|Drama|Sci-Fi|Thriller</td>\n",
       "      <td>...</td>\n",
       "      <td>corruption|lawyer|partnership|superhero|vigilante</td>\n",
       "      <td>394.0</td>\n",
       "      <td>English</td>\n",
       "      <td>USA</td>\n",
       "      <td>TV-MA</td>\n",
       "      <td>NaN</td>\n",
       "      <td>NaN</td>\n",
       "      <td>4.0</td>\n",
       "      <td>8.8</td>\n",
       "      <td>55000</td>\n",
       "    </tr>\n",
       "    <tr>\n",
       "      <th>1948</th>\n",
       "      <td>NaN</td>\n",
       "      <td>Lasse Hallström</td>\n",
       "      <td>162.0</td>\n",
       "      <td>108.0</td>\n",
       "      <td>529.0</td>\n",
       "      <td>690.0</td>\n",
       "      <td>Henry Thomas</td>\n",
       "      <td>17000.0</td>\n",
       "      <td>80014842.0</td>\n",
       "      <td>Drama|Romance|War</td>\n",
       "      <td>...</td>\n",
       "      <td>army|coin collector|love|surfboard|u.s. army</td>\n",
       "      <td>186.0</td>\n",
       "      <td>English</td>\n",
       "      <td>USA</td>\n",
       "      <td>PG-13</td>\n",
       "      <td>25000000.0</td>\n",
       "      <td>2010.0</td>\n",
       "      <td>861.0</td>\n",
       "      <td>6.3</td>\n",
       "      <td>14000</td>\n",
       "    </tr>\n",
       "    <tr>\n",
       "      <th>2015</th>\n",
       "      <td>NaN</td>\n",
       "      <td>Mario Van Peebles</td>\n",
       "      <td>7.0</td>\n",
       "      <td>100.0</td>\n",
       "      <td>535.0</td>\n",
       "      <td>399.0</td>\n",
       "      <td>Mario Van Peebles</td>\n",
       "      <td>668.0</td>\n",
       "      <td>NaN</td>\n",
       "      <td>Action|Thriller</td>\n",
       "      <td>...</td>\n",
       "      <td>exploding airplane|fighter pilot|hands tied|he...</td>\n",
       "      <td>11.0</td>\n",
       "      <td>English</td>\n",
       "      <td>USA</td>\n",
       "      <td>PG-13</td>\n",
       "      <td>25000000.0</td>\n",
       "      <td>2014.0</td>\n",
       "      <td>535.0</td>\n",
       "      <td>4.1</td>\n",
       "      <td>437</td>\n",
       "    </tr>\n",
       "  </tbody>\n",
       "</table>\n",
       "<p>5 rows × 26 columns</p>\n",
       "</div>"
      ],
      "text/plain": [
       "     color        director_name  num_critic_for_reviews  duration  \\\n",
       "4      NaN          Doug Walker                     NaN       NaN   \n",
       "279    NaN  Christopher Barnard                     NaN      22.0   \n",
       "459    NaN                  NaN                    95.0      54.0   \n",
       "1948   NaN      Lasse Hallström                   162.0     108.0   \n",
       "2015   NaN    Mario Van Peebles                     7.0     100.0   \n",
       "\n",
       "      director_facebook_likes  actor_3_facebook_likes       actor_2_name  \\\n",
       "4                       131.0                     NaN         Rob Walker   \n",
       "279                       0.0                     NaN                NaN   \n",
       "459                       NaN                     0.0      Royce Johnson   \n",
       "1948                    529.0                   690.0       Henry Thomas   \n",
       "2015                    535.0                   399.0  Mario Van Peebles   \n",
       "\n",
       "      actor_1_facebook_likes       gross  \\\n",
       "4                      131.0         NaN   \n",
       "279                      5.0         NaN   \n",
       "459                    577.0         NaN   \n",
       "1948                 17000.0  80014842.0   \n",
       "2015                   668.0         NaN   \n",
       "\n",
       "                                            genres  ...  \\\n",
       "4                                      Documentary  ...   \n",
       "279                                         Comedy  ...   \n",
       "459   Action|Adventure|Crime|Drama|Sci-Fi|Thriller  ...   \n",
       "1948                             Drama|Romance|War  ...   \n",
       "2015                               Action|Thriller  ...   \n",
       "\n",
       "                                          plot_keywords num_user_for_reviews  \\\n",
       "4                                                   NaN                  NaN   \n",
       "279                                                 NaN                  NaN   \n",
       "459   corruption|lawyer|partnership|superhero|vigilante                394.0   \n",
       "1948       army|coin collector|love|surfboard|u.s. army                186.0   \n",
       "2015  exploding airplane|fighter pilot|hands tied|he...                 11.0   \n",
       "\n",
       "      language  country content_rating      budget title_year  \\\n",
       "4          NaN      NaN            NaN         NaN        NaN   \n",
       "279        NaN      NaN            NaN         NaN        NaN   \n",
       "459    English      USA          TV-MA         NaN        NaN   \n",
       "1948   English      USA          PG-13  25000000.0     2010.0   \n",
       "2015   English      USA          PG-13  25000000.0     2014.0   \n",
       "\n",
       "      actor_2_facebook_likes imdb_score movie_facebook_likes  \n",
       "4                       12.0        7.1                    0  \n",
       "279                      NaN        7.2                    0  \n",
       "459                      4.0        8.8                55000  \n",
       "1948                   861.0        6.3                14000  \n",
       "2015                   535.0        4.1                  437  \n",
       "\n",
       "[5 rows x 26 columns]"
      ]
     },
     "execution_count": 8,
     "metadata": {},
     "output_type": "execute_result"
    }
   ],
   "source": [
    "#rows where the color is missing\n",
    "missing_color = movie.loc[movie['color'].isnull()]\n",
    "missing_color.head()"
   ]
  },
  {
   "cell_type": "code",
   "execution_count": 9,
   "metadata": {},
   "outputs": [
    {
     "name": "stdout",
     "output_type": "stream",
     "text": [
      "(3804, 26)\n"
     ]
    }
   ],
   "source": [
    "#Remove all rows with missing values\n",
    "movie.dropna(inplace=True)\n",
    "\n",
    "print(movie.shape)\n"
   ]
  },
  {
   "cell_type": "markdown",
   "metadata": {},
   "source": [
    "#### We narrow down the data from 5043 to 3804. Now we have clean data set."
   ]
  },
  {
   "cell_type": "code",
   "execution_count": 10,
   "metadata": {},
   "outputs": [],
   "source": [
    "#import numpy as np\n",
    "#import sklearn.preprocessing \n",
    "#from sklearn import preprocessing\n",
    "#from sklearn import preprocessing\n",
    "#from sklearn.preprocessing import Imputer\n",
    "# fill missing values with mean column values\n",
    "#imp = Imputer(missing_values='NaN', strategy='mean', axis=0)\n",
    "#imp=imp.fit(movie)\n",
    "#transformed_values = imputer.fit_transform(movie.values)\n",
    "# count the number of NaN values in each column\n",
    "#print(numpy.isnan(transformed_values).sum())\n"
   ]
  },
  {
   "cell_type": "markdown",
   "metadata": {},
   "source": [
    "### Data Visualization"
   ]
  },
  {
   "cell_type": "code",
   "execution_count": 11,
   "metadata": {
    "scrolled": false
   },
   "outputs": [
    {
     "data": {
      "image/png": "[encoded data removed]",
      "text/plain": [
       "<Figure size 432x288 with 1 Axes>"
      ]
     },
     "metadata": {
      "needs_background": "light"
     },
     "output_type": "display_data"
    }
   ],
   "source": [
    "%matplotlib inline\n",
    "import matplotlib.pyplot as plt\n",
    "font = {'fontname':'Arial', 'size':'14'}\n",
    "title_font = { 'weight' : 'bold','size':'16'}\n",
    "plt.hist(movie.imdb_score, bins=20)\n",
    "plt.title(\"Distribution of the IMDB ratings\")\n",
    "plt.show()"
   ]
  },
  {
   "cell_type": "markdown",
   "metadata": {},
   "source": [
    "#### Lets make some scatter plots to see how IMDB score correlate with other variables.  "
   ]
  },
  {
   "cell_type": "code",
   "execution_count": 12,
   "metadata": {
    "scrolled": false
   },
   "outputs": [
    {
     "data": {
      "text/plain": [
       "<seaborn.axisgrid.FacetGrid at 0x118fb0e50>"
      ]
     },
     "execution_count": 12,
     "metadata": {},
     "output_type": "execute_result"
    },
    {
     "data": {
      "image/png": "[encoded data removed]",
      "text/plain": [
       "<Figure size 360x360 with 1 Axes>"
      ]
     },
     "metadata": {
      "needs_background": "light"
     },
     "output_type": "display_data"
    }
   ],
   "source": [
    "#make a scatterplot of imdb_score Vs country\n",
    "import seaborn as sns\n",
    "sns.catplot(x='imdb_score', y='country', data=movie)"
   ]
  },
  {
   "cell_type": "markdown",
   "metadata": {},
   "source": [
    "#### It seems like US ans UK produce more movies, including large number of bad movies(low imdb score). "
   ]
  },
  {
   "cell_type": "code",
   "execution_count": 13,
   "metadata": {
    "scrolled": true
   },
   "outputs": [
    {
     "data": {
      "text/plain": [
       "<seaborn.axisgrid.FacetGrid at 0x11935fdc0>"
      ]
     },
     "execution_count": 13,
     "metadata": {},
     "output_type": "execute_result"
    },
    {
     "data": {
      "image/png": "[encoded data removed]",
      "text/plain": [
       "<Figure size 360x360 with 1 Axes>"
      ]
     },
     "metadata": {
      "needs_background": "light"
     },
     "output_type": "display_data"
    }
   ],
   "source": [
    "#make a scatterplot of imdb_score Vs movie facebook popularity\n",
    "\n",
    "sns.lmplot(x='imdb_score', y='movie_facebook_likes', data=movie, \n",
    "           fit_reg=False) #remove regression line"
   ]
  },
  {
   "cell_type": "markdown",
   "metadata": {},
   "source": [
    "#### The social media would be the good place to estimate the popularity of movies. From the scatter plot above, we can find that the movies that have high facebook likes tend to be the ones that have IMDB scores around 7.0 to 8.0. It is interesting to see that the greatest movie, with IMDB score  around 9.0, do not have more facebook popularity. "
   ]
  },
  {
   "cell_type": "code",
   "execution_count": 14,
   "metadata": {},
   "outputs": [
    {
     "data": {
      "text/plain": [
       "<seaborn.axisgrid.FacetGrid at 0x1239bb490>"
      ]
     },
     "execution_count": 14,
     "metadata": {},
     "output_type": "execute_result"
    },
    {
     "data": {
      "image/png": "[encoded data removed]",
      "text/plain": [
       "<Figure size 360x360 with 1 Axes>"
      ]
     },
     "metadata": {
      "needs_background": "light"
     },
     "output_type": "display_data"
    }
   ],
   "source": [
    "#make a scatterplot of imdb_score Vs director facebook popularity\n",
    "\n",
    "sns.lmplot(x='imdb_score', y='director_facebook_likes', data=movie, \n",
    "           fit_reg=False) #remove regression line\n",
    "        "
   ]
  },
  {
   "cell_type": "markdown",
   "metadata": {},
   "source": [
    "#### Above plot shows that the directors who directed movies of IMDB score higher than 6.0 tend to have more facebook popularity than the rating lower than 6.0."
   ]
  },
  {
   "cell_type": "markdown",
   "metadata": {},
   "source": [
    "## Correlation Analysis"
   ]
  },
  {
   "cell_type": "code",
   "execution_count": 15,
   "metadata": {
    "scrolled": true
   },
   "outputs": [
    {
     "data": {
      "text/html": [
       "<div>\n",
       "<style scoped>\n",
       "    .dataframe tbody tr th:only-of-type {\n",
       "        vertical-align: middle;\n",
       "    }\n",
       "\n",
       "    .dataframe tbody tr th {\n",
       "        vertical-align: top;\n",
       "    }\n",
       "\n",
       "    .dataframe thead th {\n",
       "        text-align: right;\n",
       "    }\n",
       "</style>\n",
       "<table border=\"1\" class=\"dataframe\">\n",
       "  <thead>\n",
       "    <tr style=\"text-align: right;\">\n",
       "      <th></th>\n",
       "      <th>num_critic_for_reviews</th>\n",
       "      <th>duration</th>\n",
       "      <th>director_facebook_likes</th>\n",
       "      <th>actor_3_facebook_likes</th>\n",
       "      <th>actor_1_facebook_likes</th>\n",
       "      <th>gross</th>\n",
       "      <th>num_voted_users</th>\n",
       "      <th>cast_total_facebook_likes</th>\n",
       "      <th>facenumber_in_poster</th>\n",
       "      <th>num_user_for_reviews</th>\n",
       "      <th>budget</th>\n",
       "      <th>title_year</th>\n",
       "      <th>actor_2_facebook_likes</th>\n",
       "      <th>imdb_score</th>\n",
       "      <th>movie_facebook_likes</th>\n",
       "    </tr>\n",
       "  </thead>\n",
       "  <tbody>\n",
       "    <tr>\n",
       "      <th>num_critic_for_reviews</th>\n",
       "      <td>1.00</td>\n",
       "      <td>0.23</td>\n",
       "      <td>0.18</td>\n",
       "      <td>0.25</td>\n",
       "      <td>0.17</td>\n",
       "      <td>0.47</td>\n",
       "      <td>0.60</td>\n",
       "      <td>0.24</td>\n",
       "      <td>-0.03</td>\n",
       "      <td>0.57</td>\n",
       "      <td>0.11</td>\n",
       "      <td>0.41</td>\n",
       "      <td>0.26</td>\n",
       "      <td>0.35</td>\n",
       "      <td>0.70</td>\n",
       "    </tr>\n",
       "    <tr>\n",
       "      <th>duration</th>\n",
       "      <td>0.23</td>\n",
       "      <td>1.00</td>\n",
       "      <td>0.18</td>\n",
       "      <td>0.13</td>\n",
       "      <td>0.09</td>\n",
       "      <td>0.25</td>\n",
       "      <td>0.34</td>\n",
       "      <td>0.12</td>\n",
       "      <td>0.03</td>\n",
       "      <td>0.36</td>\n",
       "      <td>0.07</td>\n",
       "      <td>-0.13</td>\n",
       "      <td>0.13</td>\n",
       "      <td>0.36</td>\n",
       "      <td>0.22</td>\n",
       "    </tr>\n",
       "    <tr>\n",
       "      <th>director_facebook_likes</th>\n",
       "      <td>0.18</td>\n",
       "      <td>0.18</td>\n",
       "      <td>1.00</td>\n",
       "      <td>0.12</td>\n",
       "      <td>0.09</td>\n",
       "      <td>0.14</td>\n",
       "      <td>0.30</td>\n",
       "      <td>0.12</td>\n",
       "      <td>-0.05</td>\n",
       "      <td>0.22</td>\n",
       "      <td>0.02</td>\n",
       "      <td>-0.05</td>\n",
       "      <td>0.12</td>\n",
       "      <td>0.19</td>\n",
       "      <td>0.16</td>\n",
       "    </tr>\n",
       "    <tr>\n",
       "      <th>actor_3_facebook_likes</th>\n",
       "      <td>0.25</td>\n",
       "      <td>0.13</td>\n",
       "      <td>0.12</td>\n",
       "      <td>1.00</td>\n",
       "      <td>0.25</td>\n",
       "      <td>0.30</td>\n",
       "      <td>0.27</td>\n",
       "      <td>0.49</td>\n",
       "      <td>0.11</td>\n",
       "      <td>0.21</td>\n",
       "      <td>0.04</td>\n",
       "      <td>0.12</td>\n",
       "      <td>0.55</td>\n",
       "      <td>0.07</td>\n",
       "      <td>0.27</td>\n",
       "    </tr>\n",
       "    <tr>\n",
       "      <th>actor_1_facebook_likes</th>\n",
       "      <td>0.17</td>\n",
       "      <td>0.09</td>\n",
       "      <td>0.09</td>\n",
       "      <td>0.25</td>\n",
       "      <td>1.00</td>\n",
       "      <td>0.15</td>\n",
       "      <td>0.18</td>\n",
       "      <td>0.94</td>\n",
       "      <td>0.06</td>\n",
       "      <td>0.12</td>\n",
       "      <td>0.02</td>\n",
       "      <td>0.10</td>\n",
       "      <td>0.39</td>\n",
       "      <td>0.09</td>\n",
       "      <td>0.13</td>\n",
       "    </tr>\n",
       "    <tr>\n",
       "      <th>gross</th>\n",
       "      <td>0.47</td>\n",
       "      <td>0.25</td>\n",
       "      <td>0.14</td>\n",
       "      <td>0.30</td>\n",
       "      <td>0.15</td>\n",
       "      <td>1.00</td>\n",
       "      <td>0.63</td>\n",
       "      <td>0.24</td>\n",
       "      <td>-0.03</td>\n",
       "      <td>0.55</td>\n",
       "      <td>0.10</td>\n",
       "      <td>0.05</td>\n",
       "      <td>0.25</td>\n",
       "      <td>0.21</td>\n",
       "      <td>0.37</td>\n",
       "    </tr>\n",
       "    <tr>\n",
       "      <th>num_voted_users</th>\n",
       "      <td>0.60</td>\n",
       "      <td>0.34</td>\n",
       "      <td>0.30</td>\n",
       "      <td>0.27</td>\n",
       "      <td>0.18</td>\n",
       "      <td>0.63</td>\n",
       "      <td>1.00</td>\n",
       "      <td>0.25</td>\n",
       "      <td>-0.03</td>\n",
       "      <td>0.78</td>\n",
       "      <td>0.07</td>\n",
       "      <td>0.02</td>\n",
       "      <td>0.25</td>\n",
       "      <td>0.48</td>\n",
       "      <td>0.52</td>\n",
       "    </tr>\n",
       "    <tr>\n",
       "      <th>cast_total_facebook_likes</th>\n",
       "      <td>0.24</td>\n",
       "      <td>0.12</td>\n",
       "      <td>0.12</td>\n",
       "      <td>0.49</td>\n",
       "      <td>0.94</td>\n",
       "      <td>0.24</td>\n",
       "      <td>0.25</td>\n",
       "      <td>1.00</td>\n",
       "      <td>0.08</td>\n",
       "      <td>0.18</td>\n",
       "      <td>0.03</td>\n",
       "      <td>0.13</td>\n",
       "      <td>0.64</td>\n",
       "      <td>0.11</td>\n",
       "      <td>0.21</td>\n",
       "    </tr>\n",
       "    <tr>\n",
       "      <th>facenumber_in_poster</th>\n",
       "      <td>-0.03</td>\n",
       "      <td>0.03</td>\n",
       "      <td>-0.05</td>\n",
       "      <td>0.11</td>\n",
       "      <td>0.06</td>\n",
       "      <td>-0.03</td>\n",
       "      <td>-0.03</td>\n",
       "      <td>0.08</td>\n",
       "      <td>1.00</td>\n",
       "      <td>-0.08</td>\n",
       "      <td>-0.02</td>\n",
       "      <td>0.07</td>\n",
       "      <td>0.07</td>\n",
       "      <td>-0.06</td>\n",
       "      <td>0.02</td>\n",
       "    </tr>\n",
       "    <tr>\n",
       "      <th>num_user_for_reviews</th>\n",
       "      <td>0.57</td>\n",
       "      <td>0.36</td>\n",
       "      <td>0.22</td>\n",
       "      <td>0.21</td>\n",
       "      <td>0.12</td>\n",
       "      <td>0.55</td>\n",
       "      <td>0.78</td>\n",
       "      <td>0.18</td>\n",
       "      <td>-0.08</td>\n",
       "      <td>1.00</td>\n",
       "      <td>0.07</td>\n",
       "      <td>0.02</td>\n",
       "      <td>0.19</td>\n",
       "      <td>0.32</td>\n",
       "      <td>0.37</td>\n",
       "    </tr>\n",
       "    <tr>\n",
       "      <th>budget</th>\n",
       "      <td>0.11</td>\n",
       "      <td>0.07</td>\n",
       "      <td>0.02</td>\n",
       "      <td>0.04</td>\n",
       "      <td>0.02</td>\n",
       "      <td>0.10</td>\n",
       "      <td>0.07</td>\n",
       "      <td>0.03</td>\n",
       "      <td>-0.02</td>\n",
       "      <td>0.07</td>\n",
       "      <td>1.00</td>\n",
       "      <td>0.05</td>\n",
       "      <td>0.04</td>\n",
       "      <td>0.03</td>\n",
       "      <td>0.05</td>\n",
       "    </tr>\n",
       "    <tr>\n",
       "      <th>title_year</th>\n",
       "      <td>0.41</td>\n",
       "      <td>-0.13</td>\n",
       "      <td>-0.05</td>\n",
       "      <td>0.12</td>\n",
       "      <td>0.10</td>\n",
       "      <td>0.05</td>\n",
       "      <td>0.02</td>\n",
       "      <td>0.13</td>\n",
       "      <td>0.07</td>\n",
       "      <td>0.02</td>\n",
       "      <td>0.05</td>\n",
       "      <td>1.00</td>\n",
       "      <td>0.12</td>\n",
       "      <td>-0.13</td>\n",
       "      <td>0.30</td>\n",
       "    </tr>\n",
       "    <tr>\n",
       "      <th>actor_2_facebook_likes</th>\n",
       "      <td>0.26</td>\n",
       "      <td>0.13</td>\n",
       "      <td>0.12</td>\n",
       "      <td>0.55</td>\n",
       "      <td>0.39</td>\n",
       "      <td>0.25</td>\n",
       "      <td>0.25</td>\n",
       "      <td>0.64</td>\n",
       "      <td>0.07</td>\n",
       "      <td>0.19</td>\n",
       "      <td>0.04</td>\n",
       "      <td>0.12</td>\n",
       "      <td>1.00</td>\n",
       "      <td>0.10</td>\n",
       "      <td>0.23</td>\n",
       "    </tr>\n",
       "    <tr>\n",
       "      <th>imdb_score</th>\n",
       "      <td>0.35</td>\n",
       "      <td>0.36</td>\n",
       "      <td>0.19</td>\n",
       "      <td>0.07</td>\n",
       "      <td>0.09</td>\n",
       "      <td>0.21</td>\n",
       "      <td>0.48</td>\n",
       "      <td>0.11</td>\n",
       "      <td>-0.06</td>\n",
       "      <td>0.32</td>\n",
       "      <td>0.03</td>\n",
       "      <td>-0.13</td>\n",
       "      <td>0.10</td>\n",
       "      <td>1.00</td>\n",
       "      <td>0.28</td>\n",
       "    </tr>\n",
       "    <tr>\n",
       "      <th>movie_facebook_likes</th>\n",
       "      <td>0.70</td>\n",
       "      <td>0.22</td>\n",
       "      <td>0.16</td>\n",
       "      <td>0.27</td>\n",
       "      <td>0.13</td>\n",
       "      <td>0.37</td>\n",
       "      <td>0.52</td>\n",
       "      <td>0.21</td>\n",
       "      <td>0.02</td>\n",
       "      <td>0.37</td>\n",
       "      <td>0.05</td>\n",
       "      <td>0.30</td>\n",
       "      <td>0.23</td>\n",
       "      <td>0.28</td>\n",
       "      <td>1.00</td>\n",
       "    </tr>\n",
       "  </tbody>\n",
       "</table>\n",
       "</div>"
      ],
      "text/plain": [
       "                           num_critic_for_reviews  duration  \\\n",
       "num_critic_for_reviews                       1.00      0.23   \n",
       "duration                                     0.23      1.00   \n",
       "director_facebook_likes                      0.18      0.18   \n",
       "actor_3_facebook_likes                       0.25      0.13   \n",
       "actor_1_facebook_likes                       0.17      0.09   \n",
       "gross                                        0.47      0.25   \n",
       "num_voted_users                              0.60      0.34   \n",
       "cast_total_facebook_likes                    0.24      0.12   \n",
       "facenumber_in_poster                        -0.03      0.03   \n",
       "num_user_for_reviews                         0.57      0.36   \n",
       "budget                                       0.11      0.07   \n",
       "title_year                                   0.41     -0.13   \n",
       "actor_2_facebook_likes                       0.26      0.13   \n",
       "imdb_score                                   0.35      0.36   \n",
       "movie_facebook_likes                         0.70      0.22   \n",
       "\n",
       "                           director_facebook_likes  actor_3_facebook_likes  \\\n",
       "num_critic_for_reviews                        0.18                    0.25   \n",
       "duration                                      0.18                    0.13   \n",
       "director_facebook_likes                       1.00                    0.12   \n",
       "actor_3_facebook_likes                        0.12                    1.00   \n",
       "actor_1_facebook_likes                        0.09                    0.25   \n",
       "gross                                         0.14                    0.30   \n",
       "num_voted_users                               0.30                    0.27   \n",
       "cast_total_facebook_likes                     0.12                    0.49   \n",
       "facenumber_in_poster                         -0.05                    0.11   \n",
       "num_user_for_reviews                          0.22                    0.21   \n",
       "budget                                        0.02                    0.04   \n",
       "title_year                                   -0.05                    0.12   \n",
       "actor_2_facebook_likes                        0.12                    0.55   \n",
       "imdb_score                                    0.19                    0.07   \n",
       "movie_facebook_likes                          0.16                    0.27   \n",
       "\n",
       "                           actor_1_facebook_likes  gross  num_voted_users  \\\n",
       "num_critic_for_reviews                       0.17   0.47             0.60   \n",
       "duration                                     0.09   0.25             0.34   \n",
       "director_facebook_likes                      0.09   0.14             0.30   \n",
       "actor_3_facebook_likes                       0.25   0.30             0.27   \n",
       "actor_1_facebook_likes                       1.00   0.15             0.18   \n",
       "gross                                        0.15   1.00             0.63   \n",
       "num_voted_users                              0.18   0.63             1.00   \n",
       "cast_total_facebook_likes                    0.94   0.24             0.25   \n",
       "facenumber_in_poster                         0.06  -0.03            -0.03   \n",
       "num_user_for_reviews                         0.12   0.55             0.78   \n",
       "budget                                       0.02   0.10             0.07   \n",
       "title_year                                   0.10   0.05             0.02   \n",
       "actor_2_facebook_likes                       0.39   0.25             0.25   \n",
       "imdb_score                                   0.09   0.21             0.48   \n",
       "movie_facebook_likes                         0.13   0.37             0.52   \n",
       "\n",
       "                           cast_total_facebook_likes  facenumber_in_poster  \\\n",
       "num_critic_for_reviews                          0.24                 -0.03   \n",
       "duration                                        0.12                  0.03   \n",
       "director_facebook_likes                         0.12                 -0.05   \n",
       "actor_3_facebook_likes                          0.49                  0.11   \n",
       "actor_1_facebook_likes                          0.94                  0.06   \n",
       "gross                                           0.24                 -0.03   \n",
       "num_voted_users                                 0.25                 -0.03   \n",
       "cast_total_facebook_likes                       1.00                  0.08   \n",
       "facenumber_in_poster                            0.08                  1.00   \n",
       "num_user_for_reviews                            0.18                 -0.08   \n",
       "budget                                          0.03                 -0.02   \n",
       "title_year                                      0.13                  0.07   \n",
       "actor_2_facebook_likes                          0.64                  0.07   \n",
       "imdb_score                                      0.11                 -0.06   \n",
       "movie_facebook_likes                            0.21                  0.02   \n",
       "\n",
       "                           num_user_for_reviews  budget  title_year  \\\n",
       "num_critic_for_reviews                     0.57    0.11        0.41   \n",
       "duration                                   0.36    0.07       -0.13   \n",
       "director_facebook_likes                    0.22    0.02       -0.05   \n",
       "actor_3_facebook_likes                     0.21    0.04        0.12   \n",
       "actor_1_facebook_likes                     0.12    0.02        0.10   \n",
       "gross                                      0.55    0.10        0.05   \n",
       "num_voted_users                            0.78    0.07        0.02   \n",
       "cast_total_facebook_likes                  0.18    0.03        0.13   \n",
       "facenumber_in_poster                      -0.08   -0.02        0.07   \n",
       "num_user_for_reviews                       1.00    0.07        0.02   \n",
       "budget                                     0.07    1.00        0.05   \n",
       "title_year                                 0.02    0.05        1.00   \n",
       "actor_2_facebook_likes                     0.19    0.04        0.12   \n",
       "imdb_score                                 0.32    0.03       -0.13   \n",
       "movie_facebook_likes                       0.37    0.05        0.30   \n",
       "\n",
       "                           actor_2_facebook_likes  imdb_score  \\\n",
       "num_critic_for_reviews                       0.26        0.35   \n",
       "duration                                     0.13        0.36   \n",
       "director_facebook_likes                      0.12        0.19   \n",
       "actor_3_facebook_likes                       0.55        0.07   \n",
       "actor_1_facebook_likes                       0.39        0.09   \n",
       "gross                                        0.25        0.21   \n",
       "num_voted_users                              0.25        0.48   \n",
       "cast_total_facebook_likes                    0.64        0.11   \n",
       "facenumber_in_poster                         0.07       -0.06   \n",
       "num_user_for_reviews                         0.19        0.32   \n",
       "budget                                       0.04        0.03   \n",
       "title_year                                   0.12       -0.13   \n",
       "actor_2_facebook_likes                       1.00        0.10   \n",
       "imdb_score                                   0.10        1.00   \n",
       "movie_facebook_likes                         0.23        0.28   \n",
       "\n",
       "                           movie_facebook_likes  \n",
       "num_critic_for_reviews                     0.70  \n",
       "duration                                   0.22  \n",
       "director_facebook_likes                    0.16  \n",
       "actor_3_facebook_likes                     0.27  \n",
       "actor_1_facebook_likes                     0.13  \n",
       "gross                                      0.37  \n",
       "num_voted_users                            0.52  \n",
       "cast_total_facebook_likes                  0.21  \n",
       "facenumber_in_poster                       0.02  \n",
       "num_user_for_reviews                       0.37  \n",
       "budget                                     0.05  \n",
       "title_year                                 0.30  \n",
       "actor_2_facebook_likes                     0.23  \n",
       "imdb_score                                 0.28  \n",
       "movie_facebook_likes                       1.00  "
      ]
     },
     "execution_count": 15,
     "metadata": {},
     "output_type": "execute_result"
    }
   ],
   "source": [
    "movie.corr().round(2)\n"
   ]
  },
  {
   "cell_type": "markdown",
   "metadata": {},
   "source": [
    "### Heat map for correlation of numeric features"
   ]
  },
  {
   "cell_type": "code",
   "execution_count": 16,
   "metadata": {
    "scrolled": true
   },
   "outputs": [
    {
     "data": {
      "image/png": "[encoded data removed]",
      "text/plain": [
       "<Figure size 864x504 with 2 Axes>"
      ]
     },
     "metadata": {},
     "output_type": "display_data"
    }
   ],
   "source": [
    "import seaborn as sns\n",
    "import matplotlib.pyplot as plt\n",
    "def corrmap(features, title):\n",
    "    sns.set(context=\"paper\", font=\"monospace\")\n",
    "    corrmat = movie[features].corr()\n",
    "    f, ax = plt.subplots(figsize=(12, 7))\n",
    "    plt.title(title, **title_font)\n",
    "# Draw the heatmap using seaborn\n",
    "    sns.heatmap(corrmat, vmax=.8, square=True)\n",
    "corrmap(numeric_features,\"Correlation matrix for numeric features\")"
   ]
  },
  {
   "cell_type": "markdown",
   "metadata": {},
   "source": [
    "#### - The \"cast_total_facebook_likes\" has a strong positive correlation with the \"actor_1_facebook_likes\", and has smaller positive correlation with both \"actor_2_facebook_likes\" and \"actor_3_facebook_likes\".\n",
    "#### - The \"movie_facebook_likes\" has strong correlation with \"num_critic_for_reviews\", that means the popularity of a movie in social network can be affected by the critics.\n",
    "#### - The \"movie_facebook_likes\" has relatively large correlation with the \"num_voted_users\".\n",
    "#### - The movie \"gross\" has strong positive correlation with the \"num_voted_users\"."
   ]
  },
  {
   "cell_type": "markdown",
   "metadata": {},
   "source": [
    "## Data Modeling"
   ]
  },
  {
   "cell_type": "markdown",
   "metadata": {},
   "source": [
    "## Linear Regression model"
   ]
  },
  {
   "cell_type": "code",
   "execution_count": 17,
   "metadata": {},
   "outputs": [],
   "source": [
    "# Feature Selection- delete string columns \n",
    "x=movie.drop(['imdb_score', 'num_critic_for_reviews','budget','cast_total_facebook_likes','num_voted_users','movie_facebook_likes', 'color', 'director_name', 'actor_2_name', 'genres', 'actor_1_name', 'movie_title', 'actor_3_name', 'plot_keywords', 'language', 'country', 'content_rating'], axis=1)\n",
    "y=movie.imdb_score"
   ]
  },
  {
   "cell_type": "code",
   "execution_count": 18,
   "metadata": {
    "scrolled": false
   },
   "outputs": [
    {
     "name": "stdout",
     "output_type": "stream",
     "text": [
      "(2662, 9)\n",
      "(2662,)\n",
      "(1142, 9)\n",
      "(1142,)\n"
     ]
    }
   ],
   "source": [
    "#Splitting the data into Training and Test set\n",
    "from sklearn import metrics\n",
    "from sklearn.neighbors import KNeighborsClassifier\n",
    "from sklearn.model_selection import train_test_split\n",
    "\n",
    "X_train,X_test,y_train,y_test=train_test_split(x,y,random_state=0,test_size=0.30)\n",
    "print (X_train.shape) \n",
    "print (y_train.shape) \n",
    "print (X_test.shape) \n",
    "print (y_test.shape)"
   ]
  },
  {
   "cell_type": "code",
   "execution_count": 19,
   "metadata": {
    "scrolled": false
   },
   "outputs": [
    {
     "name": "stdout",
     "output_type": "stream",
     "text": [
      "                                 OLS Regression Results                                \n",
      "=======================================================================================\n",
      "Dep. Variable:             imdb_score   R-squared (uncentered):                   0.979\n",
      "Model:                            OLS   Adj. R-squared (uncentered):              0.979\n",
      "Method:                 Least Squares   F-statistic:                          1.389e+04\n",
      "Date:                Fri, 10 Jan 2020   Prob (F-statistic):                        0.00\n",
      "Time:                        16:03:34   Log-Likelihood:                         -3624.5\n",
      "No. Observations:                2662   AIC:                                      7267.\n",
      "Df Residuals:                    2653   BIC:                                      7320.\n",
      "Df Model:                           9                                                  \n",
      "Covariance Type:            nonrobust                                                  \n",
      "===========================================================================================\n",
      "                              coef    std err          t      P>|t|      [0.025      0.975]\n",
      "-------------------------------------------------------------------------------------------\n",
      "duration                    0.0137      0.001     15.564      0.000       0.012       0.015\n",
      "director_facebook_likes  3.302e-05   5.96e-06      5.543      0.000    2.13e-05    4.47e-05\n",
      "actor_3_facebook_likes  -2.357e-05   1.13e-05     -2.081      0.037   -4.58e-05   -1.37e-06\n",
      "actor_1_facebook_likes   2.686e-06   1.71e-06      1.569      0.117    -6.7e-07    6.04e-06\n",
      "gross                    6.186e-10   3.16e-10      1.960      0.050   -3.01e-13    1.24e-09\n",
      "facenumber_in_poster       -0.0439      0.010     -4.390      0.000      -0.063      -0.024\n",
      "num_user_for_reviews        0.0005   5.64e-05      8.565      0.000       0.000       0.001\n",
      "title_year                  0.0024   4.72e-05     50.580      0.000       0.002       0.002\n",
      "actor_2_facebook_likes   6.789e-06   4.93e-06      1.377      0.169   -2.88e-06    1.65e-05\n",
      "==============================================================================\n",
      "Omnibus:                      326.845   Durbin-Watson:                   2.035\n",
      "Prob(Omnibus):                  0.000   Jarque-Bera (JB):              533.094\n",
      "Skew:                          -0.844   Prob(JB):                    1.74e-116\n",
      "Kurtosis:                       4.398   Cond. No.                     4.75e+07\n",
      "==============================================================================\n",
      "\n",
      "Warnings:\n",
      "[1] Standard Errors assume that the covariance matrix of the errors is correctly specified.\n",
      "[2] The condition number is large, 4.75e+07. This might indicate that there are\n",
      "strong multicollinearity or other numerical problems.\n"
     ]
    }
   ],
   "source": [
    "import numpy as np\n",
    "import pandas as pd\n",
    "import statsmodels.api as sm\n",
    "model=sm.OLS(y_train,X_train)\n",
    "results=model.fit()\n",
    "print (results.summary())"
   ]
  },
  {
   "cell_type": "code",
   "execution_count": 20,
   "metadata": {},
   "outputs": [],
   "source": [
    "### High p value are less significant--we can also drop these variables (columns)"
   ]
  },
  {
   "cell_type": "code",
   "execution_count": 21,
   "metadata": {},
   "outputs": [
    {
     "data": {
      "text/html": [
       "<div>\n",
       "<style scoped>\n",
       "    .dataframe tbody tr th:only-of-type {\n",
       "        vertical-align: middle;\n",
       "    }\n",
       "\n",
       "    .dataframe tbody tr th {\n",
       "        vertical-align: top;\n",
       "    }\n",
       "\n",
       "    .dataframe thead th {\n",
       "        text-align: right;\n",
       "    }\n",
       "</style>\n",
       "<table border=\"1\" class=\"dataframe\">\n",
       "  <thead>\n",
       "    <tr style=\"text-align: right;\">\n",
       "      <th></th>\n",
       "      <th>pred</th>\n",
       "      <th>actual</th>\n",
       "      <th>difference</th>\n",
       "    </tr>\n",
       "  </thead>\n",
       "  <tbody>\n",
       "    <tr>\n",
       "      <th>3144</th>\n",
       "      <td>6.5</td>\n",
       "      <td>NaN</td>\n",
       "      <td>NaN</td>\n",
       "    </tr>\n",
       "  </tbody>\n",
       "</table>\n",
       "</div>"
      ],
      "text/plain": [
       "      pred  actual  difference\n",
       "3144   6.5     NaN         NaN"
      ]
     },
     "execution_count": 21,
     "metadata": {},
     "output_type": "execute_result"
    }
   ],
   "source": [
    "#Calculating difference between Predicted and Actual Ratings\n",
    "\n",
    "pred=results.predict(X_test)\n",
    "\n",
    "h=pd.DataFrame(pred)\n",
    "h=h.round(1)\n",
    "g=pd.DataFrame(y_test)\n",
    "g=g.reset_index(drop=True)\n",
    "h['imdb_rating']=g\n",
    "h.columns=['pred','actual']\n",
    "h['difference']=round(abs(h.pred-h.actual),2)\n",
    "h[:1]"
   ]
  },
  {
   "cell_type": "code",
   "execution_count": 22,
   "metadata": {},
   "outputs": [
    {
     "data": {
      "text/plain": [
       "0.9509"
      ]
     },
     "execution_count": 22,
     "metadata": {},
     "output_type": "execute_result"
    }
   ],
   "source": [
    "#Optimizing model to achieve a mean score of difference variable close to 0.5\n",
    "\n",
    "round(h.difference.mean(),4)"
   ]
  },
  {
   "cell_type": "code",
   "execution_count": 23,
   "metadata": {},
   "outputs": [
    {
     "name": "stdout",
     "output_type": "stream",
     "text": [
      "Predictions within +/-1.0 star: 223.000000\n",
      "Total Predictions:              338.000000\n",
      "Accuracy for Linear Regression: 0.659763\n"
     ]
    }
   ],
   "source": [
    "print(\"Predictions within +/-1.0 star: %f\"%((h.difference<1.1).sum()))\n",
    "print('Total Predictions:              %f'%(h.difference).count())\n",
    "print ('Accuracy for Linear Regression: %f'%(((h.difference<1.1).sum())/(h.difference.count())))"
   ]
  },
  {
   "cell_type": "markdown",
   "metadata": {},
   "source": [
    "#### The accuracy for linear regression model is 66%.Which is very bad model to predict imdb rating!"
   ]
  },
  {
   "cell_type": "markdown",
   "metadata": {},
   "source": [
    "## KNN Model"
   ]
  },
  {
   "cell_type": "code",
   "execution_count": 24,
   "metadata": {
    "scrolled": true
   },
   "outputs": [
    {
     "data": {
      "text/plain": [
       "<bound method NDFrame.head of       imdb_score  duration  director_facebook_likes  actor_3_facebook_likes  \\\n",
       "0            7.9     178.0                      0.0                   855.0   \n",
       "1            7.1     169.0                    563.0                  1000.0   \n",
       "2            6.8     148.0                      0.0                   161.0   \n",
       "3            8.5     164.0                  22000.0                 23000.0   \n",
       "5            6.6     132.0                    475.0                   530.0   \n",
       "...          ...       ...                      ...                     ...   \n",
       "5033         7.0      77.0                    291.0                     8.0   \n",
       "5034         6.3      80.0                      0.0                     0.0   \n",
       "5035         6.9      81.0                      0.0                     6.0   \n",
       "5037         6.4      95.0                      0.0                   133.0   \n",
       "5042         6.6      90.0                     16.0                    16.0   \n",
       "\n",
       "      actor_1_facebook_likes        gross  num_voted_users  \\\n",
       "0                     1000.0  760505847.0           886204   \n",
       "1                    40000.0  309404152.0           471220   \n",
       "2                    11000.0  200074175.0           275868   \n",
       "3                    27000.0  448130642.0          1144337   \n",
       "5                      640.0   73058679.0           212204   \n",
       "...                      ...          ...              ...   \n",
       "5033                   291.0     424760.0            72639   \n",
       "5034                     0.0      70071.0              589   \n",
       "5035                   121.0    2040920.0            52055   \n",
       "5037                   296.0       4584.0             1338   \n",
       "5042                    86.0      85222.0             4285   \n",
       "\n",
       "      cast_total_facebook_likes  facenumber_in_poster  num_user_for_reviews  \\\n",
       "0                          4834                   0.0                3054.0   \n",
       "1                         48350                   0.0                1238.0   \n",
       "2                         11700                   1.0                 994.0   \n",
       "3                        106759                   0.0                2701.0   \n",
       "5                          1873                   1.0                 738.0   \n",
       "...                         ...                   ...                   ...   \n",
       "5033                        368                   0.0                 371.0   \n",
       "5034                          0                   0.0                  35.0   \n",
       "5035                        147                   0.0                 130.0   \n",
       "5037                        690                   1.0                  14.0   \n",
       "5042                        163                   0.0                  84.0   \n",
       "\n",
       "           budget  title_year  actor_2_facebook_likes  movie_facebook_likes  \n",
       "0     237000000.0      2009.0                   936.0                 33000  \n",
       "1     300000000.0      2007.0                  5000.0                     0  \n",
       "2     245000000.0      2015.0                   393.0                 85000  \n",
       "3     250000000.0      2012.0                 23000.0                164000  \n",
       "5     263700000.0      2012.0                   632.0                 24000  \n",
       "...           ...         ...                     ...                   ...  \n",
       "5033       7000.0      2004.0                    45.0                 19000  \n",
       "5034       7000.0      2005.0                     0.0                    74  \n",
       "5035       7000.0      1992.0                    20.0                     0  \n",
       "5037       9000.0      2011.0                   205.0                   413  \n",
       "5042       1100.0      2004.0                    23.0                   456  \n",
       "\n",
       "[3804 rows x 14 columns]>"
      ]
     },
     "execution_count": 24,
     "metadata": {},
     "output_type": "execute_result"
    }
   ],
   "source": [
    "# Feature selection - only choose important and numerical columns\n",
    "feature_cols=['imdb_score','duration', 'director_facebook_likes', 'actor_3_facebook_likes', 'actor_1_facebook_likes', 'gross', 'num_voted_users', 'cast_total_facebook_likes', 'facenumber_in_poster', 'num_user_for_reviews', 'budget', 'title_year', 'actor_2_facebook_likes', 'movie_facebook_likes']\n",
    "movie_num=movie[feature_cols]\n",
    "movie_num.head"
   ]
  },
  {
   "cell_type": "code",
   "execution_count": 25,
   "metadata": {},
   "outputs": [
    {
     "name": "stderr",
     "output_type": "stream",
     "text": [
      "<ipython-input-25-e82774a8e007>:6: SettingWithCopyWarning: \n",
      "A value is trying to be set on a copy of a slice from a DataFrame.\n",
      "Try using .loc[row_indexer,col_indexer] = value instead\n",
      "\n",
      "See the caveats in the documentation: http://pandas.pydata.org/pandas-docs/stable/user_guide/indexing.html#returning-a-view-versus-a-copy\n",
      "  h['categories']=pd.cut(h.imdb_score,bins,labels=groups)\n"
     ]
    }
   ],
   "source": [
    "#Binning 'imdb_score' variable into groups\n",
    "\n",
    "h=movie_num\n",
    "bins=[0.0,3.0,5.0,7.5,10.0]\n",
    "groups=['D','C','B','A']\n",
    "h['categories']=pd.cut(h.imdb_score,bins,labels=groups)\n",
    "\n",
    "a=h.drop(['imdb_score','categories'], axis=1)\n",
    "b=h.categories\n"
   ]
  },
  {
   "cell_type": "code",
   "execution_count": 26,
   "metadata": {},
   "outputs": [
    {
     "name": "stdout",
     "output_type": "stream",
     "text": [
      "(2662, 13)\n",
      "(2662,)\n",
      "(1142, 13)\n",
      "(1142,)\n"
     ]
    }
   ],
   "source": [
    "#Splitting data into Training and Testing set\n",
    "\n",
    "from sklearn import metrics\n",
    "from sklearn.neighbors import KNeighborsClassifier\n",
    "from sklearn.model_selection import train_test_split\n",
    "X_train,X_test,y_train,y_test=train_test_split(a,b,test_size=0.30)\n",
    "print (X_train.shape) \n",
    "print (y_train.shape) \n",
    "print (X_test.shape) \n",
    "print (y_test.shape)"
   ]
  },
  {
   "cell_type": "code",
   "execution_count": 27,
   "metadata": {},
   "outputs": [],
   "source": [
    "# Before making any actual predictions, it is always a good practice to scale the features so that all of them \n",
    "#can be uniformly evaluated.\n",
    "\n",
    "from sklearn.preprocessing import StandardScaler\n",
    "scaler = StandardScaler()\n",
    "scaler.fit(X_train)\n",
    "\n",
    "X_train = scaler.transform(X_train)\n",
    "X_test = scaler.transform(X_test)"
   ]
  },
  {
   "cell_type": "code",
   "execution_count": 28,
   "metadata": {
    "scrolled": true
   },
   "outputs": [
    {
     "data": {
      "text/plain": [
       "Text(0, 0.5, 'Accuracy')"
      ]
     },
     "execution_count": 28,
     "metadata": {},
     "output_type": "execute_result"
    },
    {
     "data": {
      "image/png": "[encoded data removed]",
      "text/plain": [
       "<Figure size 432x288 with 1 Axes>"
      ]
     },
     "metadata": {},
     "output_type": "display_data"
    }
   ],
   "source": [
    "#Cross Validating model performance for range of 'K' neighbours\n",
    "\n",
    "k_range=range(25,40)\n",
    "k_scores=[]\n",
    "\n",
    "for k in k_range:\n",
    "    knn=KNeighborsClassifier(n_neighbors=k)\n",
    "    knn.fit(X_train,y_train)\n",
    "    pred=knn.predict(X_test)\n",
    "    z=metrics.accuracy_score(y_test,pred)\n",
    "    k_scores.append(z)\n",
    "\n",
    "plt.plot(k_range,k_scores)\n",
    "plt.xlabel('Value of K')\n",
    "plt.ylabel('Accuracy')"
   ]
  },
  {
   "cell_type": "code",
   "execution_count": 29,
   "metadata": {},
   "outputs": [
    {
     "name": "stdout",
     "output_type": "stream",
     "text": [
      "Maximum Accuracy for KNN: 0.802977\n"
     ]
    }
   ],
   "source": [
    "k_scores=pd.DataFrame(k_scores)\n",
    "print('Maximum Accuracy for KNN: %f'%k_scores.max())"
   ]
  },
  {
   "cell_type": "markdown",
   "metadata": {},
   "source": [
    "#### The KNN model gives 81% of accuracy. Which is not bad model to predict imdb rating. "
   ]
  },
  {
   "cell_type": "markdown",
   "metadata": {},
   "source": [
    "## Random Forest Model"
   ]
  },
  {
   "cell_type": "code",
   "execution_count": 30,
   "metadata": {},
   "outputs": [
    {
     "data": {
      "text/html": [
       "<div>\n",
       "<style scoped>\n",
       "    .dataframe tbody tr th:only-of-type {\n",
       "        vertical-align: middle;\n",
       "    }\n",
       "\n",
       "    .dataframe tbody tr th {\n",
       "        vertical-align: top;\n",
       "    }\n",
       "\n",
       "    .dataframe thead th {\n",
       "        text-align: right;\n",
       "    }\n",
       "</style>\n",
       "<table border=\"1\" class=\"dataframe\">\n",
       "  <thead>\n",
       "    <tr style=\"text-align: right;\">\n",
       "      <th></th>\n",
       "      <th>duration</th>\n",
       "      <th>director_facebook_likes</th>\n",
       "      <th>actor_3_facebook_likes</th>\n",
       "      <th>actor_1_facebook_likes</th>\n",
       "      <th>gross</th>\n",
       "      <th>num_voted_users</th>\n",
       "      <th>cast_total_facebook_likes</th>\n",
       "      <th>facenumber_in_poster</th>\n",
       "      <th>num_user_for_reviews</th>\n",
       "      <th>budget</th>\n",
       "      <th>title_year</th>\n",
       "      <th>actor_2_facebook_likes</th>\n",
       "      <th>movie_facebook_likes</th>\n",
       "    </tr>\n",
       "  </thead>\n",
       "  <tbody>\n",
       "    <tr>\n",
       "      <th>0</th>\n",
       "      <td>178.0</td>\n",
       "      <td>0.0</td>\n",
       "      <td>855.0</td>\n",
       "      <td>1000.0</td>\n",
       "      <td>760505847.0</td>\n",
       "      <td>886204</td>\n",
       "      <td>4834</td>\n",
       "      <td>0.0</td>\n",
       "      <td>3054.0</td>\n",
       "      <td>237000000.0</td>\n",
       "      <td>2009.0</td>\n",
       "      <td>936.0</td>\n",
       "      <td>33000</td>\n",
       "    </tr>\n",
       "    <tr>\n",
       "      <th>1</th>\n",
       "      <td>169.0</td>\n",
       "      <td>563.0</td>\n",
       "      <td>1000.0</td>\n",
       "      <td>40000.0</td>\n",
       "      <td>309404152.0</td>\n",
       "      <td>471220</td>\n",
       "      <td>48350</td>\n",
       "      <td>0.0</td>\n",
       "      <td>1238.0</td>\n",
       "      <td>300000000.0</td>\n",
       "      <td>2007.0</td>\n",
       "      <td>5000.0</td>\n",
       "      <td>0</td>\n",
       "    </tr>\n",
       "    <tr>\n",
       "      <th>2</th>\n",
       "      <td>148.0</td>\n",
       "      <td>0.0</td>\n",
       "      <td>161.0</td>\n",
       "      <td>11000.0</td>\n",
       "      <td>200074175.0</td>\n",
       "      <td>275868</td>\n",
       "      <td>11700</td>\n",
       "      <td>1.0</td>\n",
       "      <td>994.0</td>\n",
       "      <td>245000000.0</td>\n",
       "      <td>2015.0</td>\n",
       "      <td>393.0</td>\n",
       "      <td>85000</td>\n",
       "    </tr>\n",
       "    <tr>\n",
       "      <th>3</th>\n",
       "      <td>164.0</td>\n",
       "      <td>22000.0</td>\n",
       "      <td>23000.0</td>\n",
       "      <td>27000.0</td>\n",
       "      <td>448130642.0</td>\n",
       "      <td>1144337</td>\n",
       "      <td>106759</td>\n",
       "      <td>0.0</td>\n",
       "      <td>2701.0</td>\n",
       "      <td>250000000.0</td>\n",
       "      <td>2012.0</td>\n",
       "      <td>23000.0</td>\n",
       "      <td>164000</td>\n",
       "    </tr>\n",
       "    <tr>\n",
       "      <th>5</th>\n",
       "      <td>132.0</td>\n",
       "      <td>475.0</td>\n",
       "      <td>530.0</td>\n",
       "      <td>640.0</td>\n",
       "      <td>73058679.0</td>\n",
       "      <td>212204</td>\n",
       "      <td>1873</td>\n",
       "      <td>1.0</td>\n",
       "      <td>738.0</td>\n",
       "      <td>263700000.0</td>\n",
       "      <td>2012.0</td>\n",
       "      <td>632.0</td>\n",
       "      <td>24000</td>\n",
       "    </tr>\n",
       "  </tbody>\n",
       "</table>\n",
       "</div>"
      ],
      "text/plain": [
       "   duration  director_facebook_likes  actor_3_facebook_likes  \\\n",
       "0     178.0                      0.0                   855.0   \n",
       "1     169.0                    563.0                  1000.0   \n",
       "2     148.0                      0.0                   161.0   \n",
       "3     164.0                  22000.0                 23000.0   \n",
       "5     132.0                    475.0                   530.0   \n",
       "\n",
       "   actor_1_facebook_likes        gross  num_voted_users  \\\n",
       "0                  1000.0  760505847.0           886204   \n",
       "1                 40000.0  309404152.0           471220   \n",
       "2                 11000.0  200074175.0           275868   \n",
       "3                 27000.0  448130642.0          1144337   \n",
       "5                   640.0   73058679.0           212204   \n",
       "\n",
       "   cast_total_facebook_likes  facenumber_in_poster  num_user_for_reviews  \\\n",
       "0                       4834                   0.0                3054.0   \n",
       "1                      48350                   0.0                1238.0   \n",
       "2                      11700                   1.0                 994.0   \n",
       "3                     106759                   0.0                2701.0   \n",
       "5                       1873                   1.0                 738.0   \n",
       "\n",
       "        budget  title_year  actor_2_facebook_likes  movie_facebook_likes  \n",
       "0  237000000.0      2009.0                   936.0                 33000  \n",
       "1  300000000.0      2007.0                  5000.0                     0  \n",
       "2  245000000.0      2015.0                   393.0                 85000  \n",
       "3  250000000.0      2012.0                 23000.0                164000  \n",
       "5  263700000.0      2012.0                   632.0                 24000  "
      ]
     },
     "execution_count": 30,
     "metadata": {},
     "output_type": "execute_result"
    }
   ],
   "source": [
    "X1 = movie_num.drop(['imdb_score','categories'],axis=1)\n",
    "Y1 = movie_num.imdb_score\n",
    "X1.head()"
   ]
  },
  {
   "cell_type": "code",
   "execution_count": 31,
   "metadata": {},
   "outputs": [],
   "source": [
    "labels= np.array(movie_num['imdb_score'])\n",
    "features= movie_num.drop(['imdb_score','categories'], axis = 1)\n",
    "features = np.array(features)"
   ]
  },
  {
   "cell_type": "code",
   "execution_count": 32,
   "metadata": {},
   "outputs": [],
   "source": [
    "from sklearn.model_selection import train_test_split\n",
    "X1_train, X1_test, Y1_train, Y1_test = train_test_split(features,labels,test_size=0.3)\n"
   ]
  },
  {
   "cell_type": "code",
   "execution_count": 33,
   "metadata": {},
   "outputs": [],
   "source": [
    "#from sklearn.ensemble import RandomForestClassifier\n",
    "#model = RandomForestClassifier(n_estimators=20)\n",
    "#model.fit(X1_train, Y1_train)"
   ]
  },
  {
   "cell_type": "code",
   "execution_count": 34,
   "metadata": {},
   "outputs": [],
   "source": [
    "from sklearn.ensemble import RandomForestRegressor\n",
    "# Instantiate model with 1000 decision trees\n",
    "rf = RandomForestRegressor(n_estimators = 20, random_state = 0)"
   ]
  },
  {
   "cell_type": "code",
   "execution_count": 35,
   "metadata": {},
   "outputs": [],
   "source": [
    "# Train the model on training data\n",
    "rf.fit(X1_train, Y1_train);"
   ]
  },
  {
   "cell_type": "markdown",
   "metadata": {},
   "source": [
    "#### Our model has now been trained to learn the relationships between the features and the targets. The next step is figuring out how good the model is! To do this we make predictions on the test features. We then compare the predictions to the known answers."
   ]
  },
  {
   "cell_type": "code",
   "execution_count": 36,
   "metadata": {},
   "outputs": [
    {
     "name": "stdout",
     "output_type": "stream",
     "text": [
      "Mean Absolute Error: 0.54 degrees.\n"
     ]
    }
   ],
   "source": [
    "# Use the forest's predict method on the test data\n",
    "predictions = rf.predict(X1_test)\n",
    "predictions\n",
    "# Calculate the absolute errors\n",
    "errors = abs(predictions - Y1_test)\n",
    "# Print out the mean absolute error (mae)\n",
    "print('Mean Absolute Error:', round(np.mean(errors), 2), 'degrees.')\n"
   ]
  },
  {
   "cell_type": "markdown",
   "metadata": {},
   "source": [
    "#### To put our predictions in perspective, we can calculate an accuracy using the mean average percentage error subtracted from 100%."
   ]
  },
  {
   "cell_type": "code",
   "execution_count": 37,
   "metadata": {},
   "outputs": [
    {
     "name": "stdout",
     "output_type": "stream",
     "text": [
      "Accuracy: 90.17 %.\n"
     ]
    }
   ],
   "source": [
    "# Calculate mean absolute percentage error (MAPE)\n",
    "mape = 100 * (errors / Y1_test)\n",
    "# Calculate and display accuracy\n",
    "accuracy = 100 - np.mean(mape)\n",
    "print('Accuracy:', round(accuracy, 2), '%.')"
   ]
  },
  {
   "cell_type": "markdown",
   "metadata": {},
   "source": [
    "#### That looks pretty good! Our model has learned how to predict the imdb rating with 90% accuracy."
   ]
  },
  {
   "cell_type": "markdown",
   "metadata": {},
   "source": [
    "#### By comparing the results, I would suggest Random Forest Model could be useful to deploy into production."
   ]
  }
 ],
 "metadata": {
  "kernelspec": {
   "display_name": "Python 3",
   "language": "python",
   "name": "python3"
  },
  "language_info": {
   "codemirror_mode": {
    "name": "ipython",
    "version": 3
   },
   "file_extension": ".py",
   "mimetype": "text/x-python",
   "name": "python",
   "nbconvert_exporter": "python",
   "pygments_lexer": "ipython3",
   "version": "3.8.0"
  }
 },
 "nbformat": 4,
 "nbformat_minor": 2
}
